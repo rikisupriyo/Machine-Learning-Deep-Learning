{
 "cells": [
  {
   "cell_type": "code",
   "execution_count": 8,
   "id": "a170c933",
   "metadata": {},
   "outputs": [],
   "source": [
    "import numpy as np\n",
    "import pandas as pd\n",
    "import matplotlib.pyplot as plt\n",
    "%matplotlib inline"
   ]
  },
  {
   "cell_type": "markdown",
   "id": "b0acac40",
   "metadata": {},
   "source": [
    "# Making Linear Regression Model"
   ]
  },
  {
   "cell_type": "code",
   "execution_count": 9,
   "id": "6faf7373",
   "metadata": {},
   "outputs": [],
   "source": [
    "class Linear_Regression:\n",
    "    \n",
    "    def __init__(self, learning_rate, no_of_iterations):\n",
    "        \n",
    "        self.learning_rate = learning_rate\n",
    "        self.no_of_iterations = no_of_iterations\n",
    "        \n",
    "\n",
    "        \n",
    "    def fit(self, X, Y):\n",
    "        \n",
    "        #number of training examples and features\n",
    "        self.m, self.n = X.shape\n",
    "        \n",
    "        #initiating weight and bias\n",
    "        self.w = np.zeros(self.n)\n",
    "        self.b = 0\n",
    "        self.X = X\n",
    "        self.Y = Y\n",
    "        \n",
    "        #implementing gradient descent\n",
    "        for i in range(self.no_of_iterations):\n",
    "            self.update_weights()\n",
    "    \n",
    "    \n",
    "    def update_weights(self, ):\n",
    "        \n",
    "        Y_prediction = self.predict(self.X)\n",
    "        \n",
    "        #calculating gradients\n",
    "        dw = - (2 * (self.X.T).dot(self.Y - Y_prediction)) / self.m\n",
    "        db = - 2 * np.sum(self.Y - Y_prediction) / self.m\n",
    "        \n",
    "        #updating the weights\n",
    "        self.w = self.w - (self.learning_rate * dw)\n",
    "        self.b = self.b - (self.learning_rate * db)\n",
    "        \n",
    "    \n",
    "    def predict(self, X):\n",
    "        \n",
    "        return X.dot(self.w) + self.b"
   ]
  },
  {
   "cell_type": "markdown",
   "id": "25d706d7",
   "metadata": {},
   "source": [
    "# Using it for prediction"
   ]
  },
  {
   "cell_type": "code",
   "execution_count": 10,
   "id": "8f308702",
   "metadata": {},
   "outputs": [
    {
     "data": {
      "text/html": [
       "<div>\n",
       "<style scoped>\n",
       "    .dataframe tbody tr th:only-of-type {\n",
       "        vertical-align: middle;\n",
       "    }\n",
       "\n",
       "    .dataframe tbody tr th {\n",
       "        vertical-align: top;\n",
       "    }\n",
       "\n",
       "    .dataframe thead th {\n",
       "        text-align: right;\n",
       "    }\n",
       "</style>\n",
       "<table border=\"1\" class=\"dataframe\">\n",
       "  <thead>\n",
       "    <tr style=\"text-align: right;\">\n",
       "      <th></th>\n",
       "      <th>YearsExperience</th>\n",
       "      <th>Salary</th>\n",
       "    </tr>\n",
       "  </thead>\n",
       "  <tbody>\n",
       "    <tr>\n",
       "      <th>0</th>\n",
       "      <td>1.1</td>\n",
       "      <td>39343</td>\n",
       "    </tr>\n",
       "    <tr>\n",
       "      <th>1</th>\n",
       "      <td>1.3</td>\n",
       "      <td>46205</td>\n",
       "    </tr>\n",
       "    <tr>\n",
       "      <th>2</th>\n",
       "      <td>1.5</td>\n",
       "      <td>37731</td>\n",
       "    </tr>\n",
       "    <tr>\n",
       "      <th>3</th>\n",
       "      <td>2.0</td>\n",
       "      <td>43525</td>\n",
       "    </tr>\n",
       "    <tr>\n",
       "      <th>4</th>\n",
       "      <td>2.2</td>\n",
       "      <td>39891</td>\n",
       "    </tr>\n",
       "  </tbody>\n",
       "</table>\n",
       "</div>"
      ],
      "text/plain": [
       "   YearsExperience  Salary\n",
       "0              1.1   39343\n",
       "1              1.3   46205\n",
       "2              1.5   37731\n",
       "3              2.0   43525\n",
       "4              2.2   39891"
      ]
     },
     "execution_count": 10,
     "metadata": {},
     "output_type": "execute_result"
    }
   ],
   "source": [
    "dataset = pd.read_csv('salary_data.csv')\n",
    "dataset.head()"
   ]
  },
  {
   "cell_type": "code",
   "execution_count": 11,
   "id": "1e9b76bb",
   "metadata": {},
   "outputs": [],
   "source": [
    "X = dataset.iloc[:, :-1].values\n",
    "y = dataset.iloc[:, -1].values"
   ]
  },
  {
   "cell_type": "code",
   "execution_count": 12,
   "id": "67efea8d",
   "metadata": {},
   "outputs": [],
   "source": [
    "from sklearn.model_selection import train_test_split\n",
    "X_train, X_test, y_train, y_test = train_test_split(X, y, test_size = 0.33, random_state = 2)"
   ]
  },
  {
   "cell_type": "code",
   "execution_count": 13,
   "id": "07971b0a",
   "metadata": {},
   "outputs": [],
   "source": [
    "model = Linear_Regression(learning_rate = 0.02, no_of_iterations = 1000)\n",
    "\n",
    "model.fit(X_train, y_train)"
   ]
  },
  {
   "cell_type": "code",
   "execution_count": 14,
   "id": "1d3b1020",
   "metadata": {},
   "outputs": [
    {
     "name": "stdout",
     "output_type": "stream",
     "text": [
      "weight =  9514.400999035135\n",
      "bias =  23697.406507136307\n"
     ]
    }
   ],
   "source": [
    "#printing parameters\n",
    "print('weight = ', model.w[0])\n",
    "print('bias = ', model.b)"
   ]
  },
  {
   "cell_type": "code",
   "execution_count": 15,
   "id": "386ba26a",
   "metadata": {},
   "outputs": [
    {
     "name": "stdout",
     "output_type": "stream",
     "text": [
      "[ 36066.12780588  34163.24760607  66512.21100279  58900.69020357\n",
      "  91249.65360029  80783.81250135 101715.49469922  52240.60950424\n",
      "  42726.20850521  88395.33330058]\n"
     ]
    }
   ],
   "source": [
    "test_data_prediction = model.predict(X_test)\n",
    "print(test_data_prediction)"
   ]
  },
  {
   "cell_type": "markdown",
   "id": "ac991196",
   "metadata": {},
   "source": [
    "# Visualization"
   ]
  },
  {
   "cell_type": "code",
   "execution_count": 16,
   "id": "055ec0fb",
   "metadata": {},
   "outputs": [
    {
     "data": {
      "image/png": "[encoded data removed]",
      "text/plain": [
       "<Figure size 640x480 with 1 Axes>"
      ]
     },
     "metadata": {},
     "output_type": "display_data"
    }
   ],
   "source": [
    "plt.scatter(X_test, y_test, color = 'red')\n",
    "plt.plot(X_test, test_data_prediction, color = 'blue')\n",
    "plt.show()"
   ]
  },
  {
   "cell_type": "markdown",
   "id": "30ce7386",
   "metadata": {},
   "source": [
    "# DONE!"
   ]
  }
 ],
 "metadata": {
  "kernelspec": {
   "display_name": "Python 3 (ipykernel)",
   "language": "python",
   "name": "python3"
  },
  "language_info": {
   "codemirror_mode": {
    "name": "ipython",
    "version": 3
   },
   "file_extension": ".py",
   "mimetype": "text/x-python",
   "name": "python",
   "nbconvert_exporter": "python",
   "pygments_lexer": "ipython3",
   "version": "3.11.3"
  }
 },
 "nbformat": 4,
 "nbformat_minor": 5
}
